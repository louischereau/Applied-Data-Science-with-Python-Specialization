{
 "cells": [
  {
   "cell_type": "markdown",
   "metadata": {},
   "source": [
    "# Creating a feature matrix from a networkx graph\n",
    "\n",
    "In this notebook we will look at a few ways to quickly create a feature matrix from a networkx graph."
   ]
  },
  {
   "cell_type": "code",
   "execution_count": 1,
   "metadata": {
    "collapsed": true
   },
   "outputs": [],
   "source": [
    "import networkx as nx\n",
    "import pandas as pd\n",
    "\n",
    "G = nx.read_gpickle('major_us_cities')"
   ]
  },
  {
   "cell_type": "markdown",
   "metadata": {},
   "source": [
    "## Node based features"
   ]
  },
  {
   "cell_type": "code",
   "execution_count": 2,
   "metadata": {
    "scrolled": true
   },
   "outputs": [
    {
     "data": {
      "text/plain": [
       "[('El Paso, TX', {'location': (-106, 31), 'population': 674433}),\n",
       " ('Long Beach, CA', {'location': (-118, 33), 'population': 469428}),\n",
       " ('Dallas, TX', {'location': (-96, 32), 'population': 1257676}),\n",
       " ('Oakland, CA', {'location': (-122, 37), 'population': 406253}),\n",
       " ('Albuquerque, NM', {'location': (-106, 35), 'population': 556495}),\n",
       " ('Baltimore, MD', {'location': (-76, 39), 'population': 622104}),\n",
       " ('Raleigh, NC', {'location': (-78, 35), 'population': 431746}),\n",
       " ('Mesa, AZ', {'location': (-111, 33), 'population': 457587}),\n",
       " ('Arlington, TX', {'location': (-97, 32), 'population': 379577}),\n",
       " ('Sacramento, CA', {'location': (-121, 38), 'population': 479686}),\n",
       " ('Wichita, KS', {'location': (-97, 37), 'population': 386552}),\n",
       " ('Tucson, AZ', {'location': (-110, 32), 'population': 526116}),\n",
       " ('Cleveland, OH', {'location': (-81, 41), 'population': 390113}),\n",
       " ('Louisville/Jefferson County, KY',\n",
       "  {'location': (-85, 38), 'population': 609893}),\n",
       " ('San Jose, CA', {'location': (-121, 37), 'population': 998537}),\n",
       " ('Oklahoma City, OK', {'location': (-97, 35), 'population': 610613}),\n",
       " ('Atlanta, GA', {'location': (-84, 33), 'population': 447841}),\n",
       " ('New Orleans, LA', {'location': (-90, 29), 'population': 378715}),\n",
       " ('Miami, FL', {'location': (-80, 25), 'population': 417650}),\n",
       " ('Fresno, CA', {'location': (-119, 36), 'population': 509924}),\n",
       " ('Philadelphia, PA', {'location': (-75, 39), 'population': 1553165}),\n",
       " ('Houston, TX', {'location': (-95, 29), 'population': 2195914}),\n",
       " ('Boston, MA', {'location': (-71, 42), 'population': 645966}),\n",
       " ('Kansas City, MO', {'location': (-94, 39), 'population': 467007}),\n",
       " ('San Diego, CA', {'location': (-117, 32), 'population': 1355896}),\n",
       " ('Chicago, IL', {'location': (-87, 41), 'population': 2718782}),\n",
       " ('Charlotte, NC', {'location': (-80, 35), 'population': 792862}),\n",
       " ('Washington D.C.', {'location': (-77, 38), 'population': 646449}),\n",
       " ('San Antonio, TX', {'location': (-98, 29), 'population': 1409019}),\n",
       " ('Phoenix, AZ', {'location': (-112, 33), 'population': 1513367}),\n",
       " ('San Francisco, CA', {'location': (-122, 37), 'population': 837442}),\n",
       " ('Memphis, TN', {'location': (-90, 35), 'population': 653450}),\n",
       " ('Los Angeles, CA', {'location': (-118, 34), 'population': 3884307}),\n",
       " ('New York, NY', {'location': (-74, 40), 'population': 8405837}),\n",
       " ('Denver, CO', {'location': (-104, 39), 'population': 649495}),\n",
       " ('Omaha, NE', {'location': (-95, 41), 'population': 434353}),\n",
       " ('Seattle, WA', {'location': (-122, 47), 'population': 652405}),\n",
       " ('Portland, OR', {'location': (-122, 45), 'population': 609456}),\n",
       " ('Tulsa, OK', {'location': (-95, 36), 'population': 398121}),\n",
       " ('Austin, TX', {'location': (-97, 30), 'population': 885400}),\n",
       " ('Minneapolis, MN', {'location': (-93, 44), 'population': 400070}),\n",
       " ('Colorado Springs, CO', {'location': (-104, 38), 'population': 439886}),\n",
       " ('Fort Worth, TX', {'location': (-97, 32), 'population': 792727}),\n",
       " ('Indianapolis, IN', {'location': (-86, 39), 'population': 843393}),\n",
       " ('Las Vegas, NV', {'location': (-115, 36), 'population': 603488}),\n",
       " ('Detroit, MI', {'location': (-83, 42), 'population': 688701}),\n",
       " ('Nashville-Davidson, TN', {'location': (-86, 36), 'population': 634464}),\n",
       " ('Milwaukee, WI', {'location': (-87, 43), 'population': 599164}),\n",
       " ('Columbus, OH', {'location': (-82, 39), 'population': 822553}),\n",
       " ('Virginia Beach, VA', {'location': (-75, 36), 'population': 448479}),\n",
       " ('Jacksonville, FL', {'location': (-81, 30), 'population': 842583})]"
      ]
     },
     "execution_count": 2,
     "metadata": {},
     "output_type": "execute_result"
    }
   ],
   "source": [
    "G.nodes(data=True)"
   ]
  },
  {
   "cell_type": "code",
   "execution_count": 3,
   "metadata": {
    "collapsed": true
   },
   "outputs": [],
   "source": [
    "# Initialize the dataframe, using the nodes as the index\n",
    "df = pd.DataFrame(index=G.nodes())"
   ]
  },
  {
   "cell_type": "markdown",
   "metadata": {},
   "source": [
    "### Extracting attributes\n",
    "\n",
    "Using `nx.get_node_attributes` it's easy to extract the node attributes in the graph into DataFrame columns."
   ]
  },
  {
   "cell_type": "code",
   "execution_count": null,
   "metadata": {
    "collapsed": true
   },
   "outputs": [],
   "source": [
    "df['location'] = pd.Series(nx.get_node_attributes(G, 'location'))\n",
    "df['population'] = pd.Series(nx.get_node_attributes(G, 'population'))\n",
    "\n",
    "df.head()"
   ]
  },
  {
   "cell_type": "markdown",
   "metadata": {},
   "source": [
    "### Creating node based features\n",
    "\n",
    "Most of the networkx functions related to nodes return a dictionary, which can also easily be added to our dataframe."
   ]
  },
  {
   "cell_type": "code",
   "execution_count": null,
   "metadata": {
    "collapsed": true,
    "scrolled": true
   },
   "outputs": [],
   "source": [
    "df['clustering'] = pd.Series(nx.clustering(G))\n",
    "df['degree'] = pd.Series(G.degree())\n",
    "\n",
    "df"
   ]
  },
  {
   "cell_type": "markdown",
   "metadata": {},
   "source": [
    "# Edge based features"
   ]
  },
  {
   "cell_type": "code",
   "execution_count": null,
   "metadata": {
    "collapsed": true
   },
   "outputs": [],
   "source": [
    "G.edges(data=True)"
   ]
  },
  {
   "cell_type": "code",
   "execution_count": null,
   "metadata": {
    "collapsed": true
   },
   "outputs": [],
   "source": [
    "# Initialize the dataframe, using the edges as the index\n",
    "df = pd.DataFrame(index=G.edges())"
   ]
  },
  {
   "cell_type": "markdown",
   "metadata": {},
   "source": [
    "### Extracting attributes\n",
    "\n",
    "Using `nx.get_edge_attributes`, it's easy to extract the edge attributes in the graph into DataFrame columns."
   ]
  },
  {
   "cell_type": "code",
   "execution_count": null,
   "metadata": {
    "collapsed": true,
    "scrolled": true
   },
   "outputs": [],
   "source": [
    "df['weight'] = pd.Series(nx.get_edge_attributes(G, 'weight'))\n",
    "\n",
    "df"
   ]
  },
  {
   "cell_type": "markdown",
   "metadata": {},
   "source": [
    "### Creating edge based features\n",
    "\n",
    "Many of the networkx functions related to edges return a nested data structures. We can extract the relevant data using list comprehension."
   ]
  },
  {
   "cell_type": "code",
   "execution_count": null,
   "metadata": {
    "collapsed": true
   },
   "outputs": [],
   "source": [
    "df['preferential attachment'] = [i[2] for i in nx.preferential_attachment(G, df.index)]\n",
    "\n",
    "df"
   ]
  },
  {
   "cell_type": "markdown",
   "metadata": {},
   "source": [
    "In the case where the function expects two nodes to be passed in, we can map the index to a lamda function."
   ]
  },
  {
   "cell_type": "code",
   "execution_count": null,
   "metadata": {
    "collapsed": true
   },
   "outputs": [],
   "source": [
    "df['Common Neighbors'] = df.index.map(lambda city: len(list(nx.common_neighbors(G, city[0], city[1]))))\n",
    "\n",
    "df"
   ]
  }
 ],
 "metadata": {
  "kernelspec": {
   "display_name": "Python 3",
   "language": "python",
   "name": "python3"
  },
  "language_info": {
   "codemirror_mode": {
    "name": "ipython",
    "version": 3
   },
   "file_extension": ".py",
   "mimetype": "text/x-python",
   "name": "python",
   "nbconvert_exporter": "python",
   "pygments_lexer": "ipython3",
   "version": "3.6.2"
  }
 },
 "nbformat": 4,
 "nbformat_minor": 2
}
