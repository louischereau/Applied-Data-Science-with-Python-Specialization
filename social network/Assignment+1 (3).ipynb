{
 "cells": [
  {
   "cell_type": "markdown",
   "metadata": {},
   "source": [
    "---\n",
    "\n",
    "_You are currently looking at **version 1.1** of this notebook. To download notebooks and datafiles, as well as get help on Jupyter notebooks in the Coursera platform, visit the [Jupyter Notebook FAQ](https://www.coursera.org/learn/python-social-network-analysis/resources/yPcBs) course resource._\n",
    "\n",
    "---"
   ]
  },
  {
   "cell_type": "markdown",
   "metadata": {},
   "source": [
    "# Assignment 1 - Creating and Manipulating Graphs\n",
    "\n",
    "Eight employees at a small company were asked to choose 3 movies that they would most enjoy watching for the upcoming company movie night. These choices are stored in the file `Employee_Movie_Choices.txt`.\n",
    "\n",
    "A second file, `Employee_Relationships.txt`, has data on the relationships between different coworkers. \n",
    "\n",
    "The relationship score has value of `-100` (Enemies) to `+100` (Best Friends). A value of zero means the two employees haven't interacted or are indifferent.\n",
    "\n",
    "Both files are tab delimited."
   ]
  },
  {
   "cell_type": "code",
   "execution_count": 2,
   "metadata": {
    "collapsed": true
   },
   "outputs": [],
   "source": [
    "import networkx as nx\n",
    "import pandas as pd\n",
    "import numpy as np\n",
    "from networkx.algorithms import bipartite\n",
    "\n",
    "\n",
    "# This is the set of employees\n",
    "employees = set(['Pablo',\n",
    "                 'Lee',\n",
    "                 'Georgia',\n",
    "                 'Vincent',\n",
    "                 'Andy',\n",
    "                 'Frida',\n",
    "                 'Joan',\n",
    "                 'Claude'])\n",
    "\n",
    "# This is the set of movies\n",
    "movies = set(['The Shawshank Redemption',\n",
    "              'Forrest Gump',\n",
    "              'The Matrix',\n",
    "              'Anaconda',\n",
    "              'The Social Network',\n",
    "              'The Godfather',\n",
    "              'Monty Python and the Holy Grail',\n",
    "              'Snakes on a Plane',\n",
    "              'Kung Fu Panda',\n",
    "              'The Dark Knight',\n",
    "              'Mean Girls'])\n",
    "\n",
    "\n",
    "# you can use the following function to plot graphs\n",
    "# make sure to comment it out before submitting to the autograder\n",
    "#def plot_graph(G, weight_name=None):\n",
    "#    '''\n",
    "#    G: a networkx G\n",
    "#    weight_name: name of the attribute for plotting edge weights (if G is weighted)\n",
    "#    '''\n",
    "#    %matplotlib notebook\n",
    "#    import matplotlib.pyplot as plt\n",
    "    \n",
    "#    plt.figure()\n",
    "#    pos = nx.spring_layout(G)\n",
    "#    edges = G.edges()\n",
    "#    weights = None\n",
    "    \n",
    "#    if weight_name:\n",
    "#        weights = [int(G[u][v][weight_name]) for u,v in edges]\n",
    "#        labels = nx.get_edge_attributes(G,weight_name)\n",
    "#        nx.draw_networkx_edge_labels(G,pos,edge_labels=labels)\n",
    "#        nx.draw_networkx(G, pos, edges=edges, width=weights);\n",
    "#    else:\n",
    "#        nx.draw_networkx(G, pos, edges=edges);"
   ]
  },
  {
   "cell_type": "markdown",
   "metadata": {},
   "source": [
    "### Question 1\n",
    "\n",
    "Using NetworkX, load in the bipartite graph from `Employee_Movie_Choices.txt` and return that graph.\n",
    "\n",
    "*This function should return a networkx graph with 19 nodes and 24 edges*"
   ]
  },
  {
   "cell_type": "code",
   "execution_count": 3,
   "metadata": {
    "collapsed": true
   },
   "outputs": [],
   "source": [
    "# !cat Employee_Movie_Choices.txt"
   ]
  },
  {
   "cell_type": "code",
   "execution_count": 4,
   "metadata": {},
   "outputs": [
    {
     "data": {
      "text/plain": [
       "<networkx.classes.graph.Graph at 0x7fb475041c50>"
      ]
     },
     "execution_count": 4,
     "metadata": {},
     "output_type": "execute_result"
    }
   ],
   "source": [
    "def answer_one():\n",
    "        \n",
    "    df = pd.read_csv('Employee_Movie_Choices.txt', names = ['Employee', 'Movie'], delimiter ='\\t', skiprows = 1)\n",
    "    \n",
    "    B = nx.Graph()\n",
    "    \n",
    "    edges = [(df.loc[i,'Employee'], df.loc[i, 'Movie']) for i in df.index]\n",
    "    \n",
    "    B.add_nodes_from(df['Employee'], bipartite=0)\n",
    "    B.add_nodes_from(df['Movie'], bipartite=1)\n",
    "    B.add_edges_from(edges)\n",
    "    \n",
    "    \n",
    "    return B\n",
    "answer_one()"
   ]
  },
  {
   "cell_type": "markdown",
   "metadata": {},
   "source": [
    "### Question 2\n",
    "\n",
    "Using the graph from the previous question, add nodes attributes named `'type'` where movies have the value `'movie'` and employees have the value `'employee'` and return that graph.\n",
    "\n",
    "*This function should return a networkx graph with node attributes `{'type': 'movie'}` or `{'type': 'employee'}`*"
   ]
  },
  {
   "cell_type": "code",
   "execution_count": 5,
   "metadata": {},
   "outputs": [
    {
     "data": {
      "text/plain": [
       "<networkx.classes.graph.Graph at 0x7fb472919550>"
      ]
     },
     "execution_count": 5,
     "metadata": {},
     "output_type": "execute_result"
    }
   ],
   "source": [
    "def answer_two():\n",
    "    \n",
    "    df = pd.read_csv('Employee_Movie_Choices.txt', names = ['Employee', 'Movie'], delimiter ='\\t', skiprows = 1)\n",
    "    \n",
    "    B = nx.Graph()\n",
    "    \n",
    "    edges = [(df.loc[i,'Employee'], df.loc[i, 'Movie']) for i in df.index]\n",
    "    \n",
    "    B.add_nodes_from(df['Employee'], bipartite=0, type = 'employee')\n",
    "    B.add_nodes_from(df['Movie'], bipartite=1, type = 'movie')\n",
    "    B.add_edges_from(edges)\n",
    "    \n",
    "    return B\n",
    "\n",
    "answer_two()"
   ]
  },
  {
   "cell_type": "markdown",
   "metadata": {
    "collapsed": true
   },
   "source": [
    "### Question 3\n",
    "\n",
    "Find a weighted projection of the graph from `answer_two` which tells us how many movies different pairs of employees have in common.\n",
    "\n",
    "*This function should return a weighted projected graph.*"
   ]
  },
  {
   "cell_type": "code",
   "execution_count": 6,
   "metadata": {},
   "outputs": [
    {
     "data": {
      "text/plain": [
       "<networkx.classes.graph.Graph at 0x7fb475041710>"
      ]
     },
     "execution_count": 6,
     "metadata": {},
     "output_type": "execute_result"
    }
   ],
   "source": [
    "def answer_three():\n",
    "    \n",
    "    return nx.bipartite.weighted_projected_graph(answer_two(), employees)\n",
    "\n",
    "answer_three()"
   ]
  },
  {
   "cell_type": "markdown",
   "metadata": {
    "collapsed": true
   },
   "source": [
    "### Question 4\n",
    "\n",
    "Suppose you'd like to find out if people that have a high relationship score also like the same types of movies.\n",
    "\n",
    "Find the Pearson correlation ( using `DataFrame.corr()` ) between employee relationship scores and the number of movies they have in common. If two employees have no movies in common it should be treated as a 0, not a missing value, and should be included in the correlation calculation.\n",
    "\n",
    "*This function should return a float.*"
   ]
  },
  {
   "cell_type": "code",
   "execution_count": 7,
   "metadata": {
    "collapsed": true
   },
   "outputs": [],
   "source": [
    "# !cat Employee_Relationships.txt"
   ]
  },
  {
   "cell_type": "code",
   "execution_count": 34,
   "metadata": {},
   "outputs": [
    {
     "data": {
      "text/plain": [
       "0.78839622217334737"
      ]
     },
     "execution_count": 34,
     "metadata": {},
     "output_type": "execute_result"
    }
   ],
   "source": [
    "def answer_four():\n",
    "        \n",
    "    rel_df = pd.read_csv('Employee_Relationships.txt', names = ['Employee 1', 'Employee 2', 'Relationship'], delimiter ='\\t', skiprows = 1)\n",
    "    \n",
    "    R = nx.Graph()\n",
    "    \n",
    "    R.add_nodes_from(employees)\n",
    "    \n",
    "    rel_edges = [(rel_df.loc[i,'Employee 1'], rel_df.loc[i,'Employee 2']) for i in rel_df.index]\n",
    "    \n",
    "    rel_weight = dict(zip(rel_edges, rel_df['Relationship']))\n",
    "    \n",
    "    R.add_edges_from(rel_edges)\n",
    "    \n",
    "    nx.set_edge_attributes(R, values = rel_weight, name = 'relationship')\n",
    "    \n",
    "    X = nx.compose(answer_three(), R)\n",
    "    \n",
    "    df = pd.DataFrame(X.edges(data=True), columns = ['e1', 'e2', 'rel'])\n",
    "    \n",
    "    df['# movie'] = df['rel'].apply(lambda x: x.get('weight')).fillna(0)\n",
    "    \n",
    "    df['rel'] = df['rel'].apply(lambda x: x.get('relationship')).fillna(0)\n",
    "    \n",
    "    return  df.corr(method = 'pearson').iloc[0,1]\n",
    "\n",
    "answer_four()"
   ]
  },
  {
   "cell_type": "code",
   "execution_count": null,
   "metadata": {
    "collapsed": true
   },
   "outputs": [],
   "source": []
  }
 ],
 "metadata": {
  "coursera": {
   "course_slug": "python-social-network-analysis",
   "graded_item_id": "YNa9b",
   "launcher_item_id": "hvNc1",
   "part_id": "VbyiB"
  },
  "kernelspec": {
   "display_name": "Python 3",
   "language": "python",
   "name": "python3"
  },
  "language_info": {
   "codemirror_mode": {
    "name": "ipython",
    "version": 3
   },
   "file_extension": ".py",
   "mimetype": "text/x-python",
   "name": "python",
   "nbconvert_exporter": "python",
   "pygments_lexer": "ipython3",
   "version": "3.6.2"
  }
 },
 "nbformat": 4,
 "nbformat_minor": 2
}
